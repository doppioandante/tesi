{
 "cells": [
  {
   "cell_type": "code",
   "execution_count": 18,
   "metadata": {},
   "outputs": [],
   "source": [
    "from generate_ftw_rom import get_ftws\n",
    "from generate_waveform_rom import get_waveform_rom\n",
    "import matplotlib.pyplot as plt\n",
    "import numpy as np\n",
    "from scipy import signal\n",
    "from scipy.fftpack import fft\n",
    "\n",
    "clock_frequency = 1e8\n",
    "sampling_frequency = 40000\n",
    "pwm_frequency = clock_frequency\n",
    "phase_update_freq = clock_frequency\n",
    "phase_bits = 48\n",
    "address_bits = 13\n",
    "sample_bits = 11\n",
    "amplitude = 0.4\n",
    "\n",
    "ftws = get_ftws(phase_bits, pwm_frequency)\n",
    "waveform_rom = get_waveform_rom(address_bits, sample_bits)"
   ]
  },
  {
   "cell_type": "code",
   "execution_count": 19,
   "metadata": {},
   "outputs": [],
   "source": [
    "# uses global params\n",
    "def to_signed(value, bits):\n",
    "    if value >= 2**(bits-1):\n",
    "        return value - 2**bits\n",
    "    return value\n",
    "\n",
    "def dds_gen_output_2(note_number, sampling_frequency, total_time):\n",
    "    phase_register = 0\n",
    "    ftw = ftws[note_number]\n",
    "    \n",
    "    phase_updates_per_sample = int(phase_update_freq/sampling_frequency)\n",
    "    total_samples = int(total_time*phase_update_freq)\n",
    "    phase_values = ftw*phase_updates_per_sample*np.arange(0, total_samples, 1).astype(float)\n",
    "    phase_values -= np.remainder(phase_values, 2**(phase_bits-address_bits))\n",
    "    phase_values *= 2*np.pi/2**phase_bits\n",
    "    ys = np.round(amplitude*2**(sample_bits-1)*np.sin(phase_values))\n",
    "\n",
    "    ts = np.arange(0, total_time, 1/sampling_frequency)\n",
    "    lmin = min(len(ts), len(ys))\n",
    "    return ts[:lmin], ys[:lmin]"
   ]
  },
  {
   "cell_type": "code",
   "execution_count": 20,
   "metadata": {},
   "outputs": [],
   "source": [
    "def dds_generate_output(note_number, sampling_frequency, total_time):\n",
    "    phase_register = 0\n",
    "    ftw = ftws[note_number]\n",
    "    \n",
    "    values = []\n",
    "    phase_updates_per_sample = int(phase_update_freq/sampling_frequency)\n",
    "    total_steps = int(total_time*phase_update_freq)\n",
    "    for i in range(0, total_steps):\n",
    "        if i % phase_updates_per_sample == 0:\n",
    "            address = phase_register // 2 ** (phase_bits-address_bits)\n",
    "            values.append(to_signed(waveform_rom[address], sample_bits))\n",
    "        phase_register = (phase_register + ftw) % 2**phase_bits\n",
    "\n",
    "    ts = np.arange(0, total_time, 1/sampling_frequency)\n",
    "    lmin = min(len(ts), len(values))\n",
    "    return ts[:lmin], values[:lmin]"
   ]
  },
  {
   "cell_type": "code",
   "execution_count": 4,
   "metadata": {},
   "outputs": [
    {
     "data": {
      "text/plain": [
       "[<matplotlib.lines.Line2D at 0x7f9b8e950ef0>]"
      ]
     },
     "execution_count": 4,
     "metadata": {},
     "output_type": "execute_result"
    },
    {
     "data": {
      "image/png": "[encoded data removed]",
      "text/plain": [
       "<Figure size 432x288 with 1 Axes>"
      ]
     },
     "metadata": {
      "needs_background": "light"
     },
     "output_type": "display_data"
    }
   ],
   "source": [
    "ts, ys = dds_gen_output_2(69, 40000, 0.04)\n",
    "ts2, ys2 = dds_generate_output(69, 40000, 0.04)\n",
    "plt.plot(ts2, ys2-ys)\n",
    "    "
   ]
  },
  {
   "cell_type": "code",
   "execution_count": 21,
   "metadata": {},
   "outputs": [],
   "source": [
    "def note_number_to_freq(note_number):\n",
    "    s = 2**(1/12)\n",
    "    return 440 * s**(note_number-69)\n",
    "\n",
    "def get_dds_snr(note_number):\n",
    "    print(\"Calculating SNR of note\", note_number)\n",
    "    freq = note_number_to_freq(note_number)\n",
    "    periods_in_max_time = round(0.2*freq)\n",
    "    total_time = max(15/freq, periods_in_max_time/freq)\n",
    "    ts, ys = dds_gen_output_2(note_number, sampling_frequency, 0.1)\n",
    "    no_dds = 0.4 * np.sin(2*np.pi*freq * ts) * 2**(sample_bits-1)\n",
    "    dds_error = ys - no_dds\n",
    "    signal_power = np.sum(no_dds**2)/len(no_dds)\n",
    "    error_power = np.sum(dds_error ** 2)/len(dds_error)\n",
    "    return signal_power/error_power"
   ]
  },
  {
   "cell_type": "code",
   "execution_count": 22,
   "metadata": {},
   "outputs": [
    {
     "name": "stdout",
     "output_type": "stream",
     "text": [
      "Calculating SNR of note 0\n",
      "Calculating SNR of note 1\n",
      "Calculating SNR of note 2\n",
      "Calculating SNR of note 3\n",
      "Calculating SNR of note 4\n",
      "Calculating SNR of note 5\n",
      "Calculating SNR of note 6\n",
      "Calculating SNR of note 7\n",
      "Calculating SNR of note 8\n",
      "Calculating SNR of note 9\n",
      "Calculating SNR of note 10\n",
      "Calculating SNR of note 11\n",
      "Calculating SNR of note 12\n",
      "Calculating SNR of note 13\n",
      "Calculating SNR of note 14\n",
      "Calculating SNR of note 15\n",
      "Calculating SNR of note 16\n",
      "Calculating SNR of note 17\n",
      "Calculating SNR of note 18\n",
      "Calculating SNR of note 19\n",
      "Calculating SNR of note 20\n",
      "Calculating SNR of note 21\n",
      "Calculating SNR of note 22\n",
      "Calculating SNR of note 23\n",
      "Calculating SNR of note 24\n",
      "Calculating SNR of note 25\n",
      "Calculating SNR of note 26\n",
      "Calculating SNR of note 27\n",
      "Calculating SNR of note 28\n",
      "Calculating SNR of note 29\n",
      "Calculating SNR of note 30\n",
      "Calculating SNR of note 31\n",
      "Calculating SNR of note 32\n",
      "Calculating SNR of note 33\n",
      "Calculating SNR of note 34\n",
      "Calculating SNR of note 35\n",
      "Calculating SNR of note 36\n",
      "Calculating SNR of note 37\n",
      "Calculating SNR of note 38\n",
      "Calculating SNR of note 39\n",
      "Calculating SNR of note 40\n",
      "Calculating SNR of note 41\n",
      "Calculating SNR of note 42\n",
      "Calculating SNR of note 43\n",
      "Calculating SNR of note 44\n",
      "Calculating SNR of note 45\n",
      "Calculating SNR of note 46\n",
      "Calculating SNR of note 47\n",
      "Calculating SNR of note 48\n",
      "Calculating SNR of note 49\n",
      "Calculating SNR of note 50\n",
      "Calculating SNR of note 51\n",
      "Calculating SNR of note 52\n",
      "Calculating SNR of note 53\n",
      "Calculating SNR of note 54\n",
      "Calculating SNR of note 55\n",
      "Calculating SNR of note 56\n",
      "Calculating SNR of note 57\n",
      "Calculating SNR of note 58\n",
      "Calculating SNR of note 59\n",
      "Calculating SNR of note 60\n",
      "Calculating SNR of note 61\n",
      "Calculating SNR of note 62\n",
      "Calculating SNR of note 63\n",
      "Calculating SNR of note 64\n",
      "Calculating SNR of note 65\n",
      "Calculating SNR of note 66\n",
      "Calculating SNR of note 67\n",
      "Calculating SNR of note 68\n",
      "Calculating SNR of note 69\n",
      "Calculating SNR of note 70\n",
      "Calculating SNR of note 71\n",
      "Calculating SNR of note 72\n",
      "Calculating SNR of note 73\n",
      "Calculating SNR of note 74\n",
      "Calculating SNR of note 75\n",
      "Calculating SNR of note 76\n",
      "Calculating SNR of note 77\n",
      "Calculating SNR of note 78\n",
      "Calculating SNR of note 79\n",
      "Calculating SNR of note 80\n",
      "Calculating SNR of note 81\n",
      "Calculating SNR of note 82\n",
      "Calculating SNR of note 83\n",
      "Calculating SNR of note 84\n",
      "Calculating SNR of note 85\n",
      "Calculating SNR of note 86\n",
      "Calculating SNR of note 87\n",
      "Calculating SNR of note 88\n",
      "Calculating SNR of note 89\n",
      "Calculating SNR of note 90\n",
      "Calculating SNR of note 91\n",
      "Calculating SNR of note 92\n",
      "Calculating SNR of note 93\n",
      "Calculating SNR of note 94\n",
      "Calculating SNR of note 95\n",
      "Calculating SNR of note 96\n",
      "Calculating SNR of note 97\n",
      "Calculating SNR of note 98\n",
      "Calculating SNR of note 99\n",
      "Calculating SNR of note 100\n",
      "Calculating SNR of note 101\n",
      "Calculating SNR of note 102\n",
      "Calculating SNR of note 103\n",
      "Calculating SNR of note 104\n",
      "Calculating SNR of note 105\n",
      "Calculating SNR of note 106\n",
      "Calculating SNR of note 107\n",
      "Calculating SNR of note 108\n",
      "Calculating SNR of note 109\n",
      "Calculating SNR of note 110\n",
      "Calculating SNR of note 111\n",
      "Calculating SNR of note 112\n",
      "Calculating SNR of note 113\n",
      "Calculating SNR of note 114\n",
      "Calculating SNR of note 115\n",
      "Calculating SNR of note 116\n",
      "Calculating SNR of note 117\n",
      "Calculating SNR of note 118\n",
      "Calculating SNR of note 119\n",
      "Calculating SNR of note 120\n",
      "Calculating SNR of note 121\n",
      "Calculating SNR of note 122\n",
      "Calculating SNR of note 123\n",
      "Calculating SNR of note 124\n",
      "Calculating SNR of note 125\n",
      "Calculating SNR of note 126\n",
      "Calculating SNR of note 127\n"
     ]
    }
   ],
   "source": [
    "snrs = [get_dds_snr(i) for i in range(0, 128)]"
   ]
  },
  {
   "cell_type": "code",
   "execution_count": 30,
   "metadata": {},
   "outputs": [
    {
     "data": {
      "image/png": "[encoded data removed]",
      "text/plain": [
       "<Figure size 432x288 with 1 Axes>"
      ]
     },
     "metadata": {
      "needs_background": "light"
     },
     "output_type": "display_data"
    },
    {
     "name": "stderr",
     "output_type": "stream",
     "text": [
      "The PostScript backend does not support transparency; partially transparent artists will be rendered opaque.\n",
      "The PostScript backend does not support transparency; partially transparent artists will be rendered opaque.\n"
     ]
    }
   ],
   "source": [
    "fig = plt.figure()\n",
    "ax1 = fig.add_subplot()\n",
    "ax1.set_ylabel('SNR [dB]')\n",
    "ax1.set_xlabel('note number')\n",
    "ax1.set_title('b=48')\n",
    "plt.plot(list(range(0, len(snrs))), 10 * np.log10(snrs))\n",
    "error_power = (2/2**sample_bits)**2/12\n",
    "signal_power = (amplitude)**2/2\n",
    "plt.axhline(10*np.log10(signal_power/error_power), color='r')\n",
    "plt.ylim(58.7,60.5)\n",
    "plt.legend(('DDS SNR', 'quantization SNR'))\n",
    "plt.show()\n",
    "fig.savefig('dds_snr.eps')"
   ]
  },
  {
   "cell_type": "code",
   "execution_count": 8,
   "metadata": {},
   "outputs": [],
   "source": [
    "note_number = 120\n",
    "freq = note_number_to_freq(note_number)\n",
    "total_time = 0.2\n",
    "ts, dds_signal = dds_gen_output_2(note_number, sampling_frequency, total_time)\n",
    "no_dds = 0.4 * np.sin(2*np.pi*freq * ts) * 2**(sample_bits-1)\n",
    "#filtered_signal = get_filtered_signal(dds_signal, sampling_frequency, 21000)\n",
    "\n"
   ]
  },
  {
   "cell_type": "code",
   "execution_count": 9,
   "metadata": {},
   "outputs": [
    {
     "data": {
      "text/plain": [
       "[<matplotlib.lines.Line2D at 0x7f9b8dfba7f0>]"
      ]
     },
     "execution_count": 9,
     "metadata": {},
     "output_type": "execute_result"
    },
    {
     "data": {
      "image/png": "[encoded data removed]",
      "text/plain": [
       "<Figure size 432x288 with 1 Axes>"
      ]
     },
     "metadata": {
      "needs_background": "light"
     },
     "output_type": "display_data"
    }
   ],
   "source": [
    "lmin = min(len(ts), len(dds_signal))\n",
    "plt.plot(ts[:lmin], no_dds-dds_signal[:lmin])\n",
    "#lmin = min(len(tsp), len(pwm_signal))\n",
    "#plt.plot(tsp[:lmin], pwm_signal[:lmin])\n",
    "#lmin = min(len(tsp), len(filtered_signal))\n",
    "#plt.plot(tsp[:lmin], filtered_signal[:lmin])"
   ]
  },
  {
   "cell_type": "code",
   "execution_count": 10,
   "metadata": {},
   "outputs": [
    {
     "name": "stdout",
     "output_type": "stream",
     "text": [
      "83886.00428313666\n",
      "83886.08000000002\n",
      "SNR: 34.47152223388818\n"
     ]
    },
    {
     "data": {
      "image/png": "[encoded data removed]",
      "text/plain": [
       "<Figure size 432x288 with 1 Axes>"
      ]
     },
     "metadata": {
      "needs_background": "light"
     },
     "output_type": "display_data"
    }
   ],
   "source": [
    "periods_in_max_time = round(0.02*freq)\n",
    "total_time = 0.5\n",
    "ts, ys = dds_gen_output_2(note_number, sampling_frequency, total_time)\n",
    "no_dds = amplitude * np.sin(2*np.pi*freq * (ts)) * 2**(sample_bits-1)\n",
    "signal_power = np.sum(no_dds**2)/len(no_dds)\n",
    "print(signal_power)\n",
    "print((2**(sample_bits-1)*amplitude)**2/2)\n",
    "dds_error = ys - no_dds\n",
    "plt.plot(ts, dds_error)\n",
    "print(\"SNR:\", 10 * np.log10(signal_power/(np.sum(dds_error**2)/len(ts))))"
   ]
  },
  {
   "cell_type": "code",
   "execution_count": 11,
   "metadata": {},
   "outputs": [
    {
     "name": "stdout",
     "output_type": "stream",
     "text": [
      "Calculating SNR of note 80\n",
      "48.30549031196789\n"
     ]
    }
   ],
   "source": [
    "print(10*np.log10(get_dds_snr(80)))"
   ]
  },
  {
   "cell_type": "code",
   "execution_count": 12,
   "metadata": {},
   "outputs": [
    {
     "data": {
      "text/plain": [
       "-0.003496637456496643"
      ]
     },
     "execution_count": 12,
     "metadata": {},
     "output_type": "execute_result"
    }
   ],
   "source": [
    "(ftws[2]/2**phase_bits)*clock_frequency - note_number_to_freq(2)"
   ]
  },
  {
   "cell_type": "code",
   "execution_count": null,
   "metadata": {},
   "outputs": [],
   "source": []
  }
 ],
 "metadata": {
  "kernelspec": {
   "display_name": "Python 3",
   "language": "python",
   "name": "python3"
  },
  "language_info": {
   "codemirror_mode": {
    "name": "ipython",
    "version": 3
   },
   "file_extension": ".py",
   "mimetype": "text/x-python",
   "name": "python",
   "nbconvert_exporter": "python",
   "pygments_lexer": "ipython3",
   "version": "3.6.8"
  }
 },
 "nbformat": 4,
 "nbformat_minor": 2
}
