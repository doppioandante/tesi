{
 "cells": [
  {
   "cell_type": "code",
   "execution_count": 2,
   "metadata": {},
   "outputs": [
    {
     "data": {
      "text/plain": [
       "<Figure size 640x480 with 1 Axes>"
      ]
     },
     "metadata": {},
     "output_type": "display_data"
    }
   ],
   "source": [
    "import numpy as np\n",
    "import matplotlib.pyplot as plt\n",
    "\n",
    "address_bits = 13\n",
    "sample_bits = 11\n",
    "amplitude = 0.4\n",
    "\n",
    "t = np.linspace(0, 2 * np.pi, 2 ** address_bits)\n",
    "samples = amplitude * np.sin(t)\n",
    "plt.scatter(t, samples, marker=',', s=1)\n",
    "plt.show()"
   ]
  },
  {
   "cell_type": "code",
   "execution_count": 95,
   "metadata": {},
   "outputs": [
    {
     "name": "stdout",
     "output_type": "stream",
     "text": [
      "Quantization error power:  0.08509216785262788\n",
      "Theoretical (granular) error power:  0.08333333333333333\n",
      "Calculated signal power: 83875.84000000003\n",
      "Theoretical signal power: 83886.08000000002\n",
      "Signal to noise ratio (dB): 59.938003121601966\n"
     ]
    },
    {
     "data": {
      "image/png": "[encoded data removed]",
      "text/plain": [
       "<Figure size 432x288 with 1 Axes>"
      ]
     },
     "metadata": {
      "needs_background": "light"
     },
     "output_type": "display_data"
    }
   ],
   "source": [
    "# the range [-1,1] is mapped into [-2^(sample_bits-1), 2^(sample_bits-1)-1]\n",
    "quantized_values = np.round(2**(sample_bits-1) * samples).astype(int)\n",
    "# clamp out of range values\n",
    "quantized_values = np.clip(quantized_values, -2**(sample_bits-1), 2**(sample_bits-1)-1)\n",
    "plt.scatter(t, quantized_values, s=1, marker=',')\n",
    "#plt.scatter(t, quantized_values, s=1, marker=',')\n",
    "quantization_error = quantized_values - 2**(sample_bits-1) * samples\n",
    "quantization_error_power = np.sum(quantization_error ** 2)/len(t)\n",
    "print(\"Quantization error power: \", quantization_error_power)\n",
    "\n",
    "# estimated quantization error\n",
    "delta = 1 #2vsat/L\n",
    "print(\"Theoretical (granular) error power: \", delta**2/12)\n",
    "\n",
    "# SNR\n",
    "signal_power = (amplitude * 2**(sample_bits-1))**2/2\n",
    "print(\"Calculated signal power:\", np.sum((2**(sample_bits-1) * samples)**2)/len(t))\n",
    "print(\"Theoretical signal power:\", signal_power)\n",
    "\n",
    "print(\"Signal to noise ratio (dB):\", 10 * np.log10(signal_power/quantization_error_power))\n"
   ]
  },
  {
   "cell_type": "code",
   "execution_count": 6,
   "metadata": {},
   "outputs": [
    {
     "name": "stdout",
     "output_type": "stream",
     "text": [
      "67.98751163663268\n"
     ]
    }
   ],
   "source": [
    "delta = 2/(2**sample_bits)\n",
    "q_err = delta**2/12\n",
    "signal_power_2 = 1**2/2\n",
    "print(10*np.log10(signal_power_2/q_err))"
   ]
  },
  {
   "cell_type": "code",
   "execution_count": 73,
   "metadata": {},
   "outputs": [
    {
     "data": {
      "text/plain": [
       "<matplotlib.collections.PathCollection at 0x7f46ea4a72e8>"
      ]
     },
     "execution_count": 73,
     "metadata": {},
     "output_type": "execute_result"
    },
    {
     "data": {
      "image/png": "[encoded data removed]",
      "text/plain": [
       "<Figure size 432x288 with 1 Axes>"
      ]
     },
     "metadata": {
      "needs_background": "light"
     },
     "output_type": "display_data"
    }
   ],
   "source": [
    "# Apply 2-complement to negative values\n",
    "for i in range(0, len(quantized_values)):\n",
    "    if quantized_values[i] < 0:\n",
    "        quantized_values[i] = 2**sample_bits + quantized_values[i]\n",
    "plt.scatter(t, quantized_values, marker=',', s=1)"
   ]
  },
  {
   "cell_type": "code",
   "execution_count": null,
   "metadata": {},
   "outputs": [],
   "source": []
  }
 ],
 "metadata": {
  "kernelspec": {
   "display_name": "Python 3",
   "language": "python",
   "name": "python3"
  },
  "language_info": {
   "codemirror_mode": {
    "name": "ipython",
    "version": 3
   },
   "file_extension": ".py",
   "mimetype": "text/x-python",
   "name": "python",
   "nbconvert_exporter": "python",
   "pygments_lexer": "ipython3",
   "version": "3.6.8"
  }
 },
 "nbformat": 4,
 "nbformat_minor": 2
}
